{
 "cells": [
  {
   "cell_type": "code",
   "execution_count": 3,
   "metadata": {},
   "outputs": [],
   "source": [
    "import numpy as np\n",
    "import pandas as pd\n",
    "import matplotlib.pyplot as plt\n",
    "import pyspark"
   ]
  },
  {
   "cell_type": "code",
   "execution_count": 4,
   "metadata": {},
   "outputs": [],
   "source": [
    "from pyspark.sql.types import IntegerType, FloatType, DateType, StringType, BooleanType\n",
    "from pyspark.sql.types import StructField, StructType\n",
    "from pyspark.sql.functions import when, col"
   ]
  },
  {
   "cell_type": "markdown",
   "metadata": {},
   "source": [
    "# Read data"
   ]
  },
  {
   "cell_type": "markdown",
   "metadata": {},
   "source": [
    "## Read matches dataset "
   ]
  },
  {
   "cell_type": "code",
   "execution_count": 2,
   "metadata": {},
   "outputs": [],
   "source": [
    "from pyspark.sql import SparkSession"
   ]
  },
  {
   "cell_type": "code",
   "execution_count": 5,
   "metadata": {},
   "outputs": [],
   "source": [
    "spark = SparkSession.builder.appName('IPL-Analysis').getOrCreate()"
   ]
  },
  {
   "cell_type": "code",
   "execution_count": 6,
   "metadata": {},
   "outputs": [],
   "source": [
    "matches = spark.read.csv('matches.csv',header=True, inferSchema=True)"
   ]
  },
  {
   "cell_type": "code",
   "execution_count": 7,
   "metadata": {},
   "outputs": [
    {
     "name": "stdout",
     "output_type": "stream",
     "text": [
      "+------+-------+----------+----------+----------+---------------+--------------------+--------------------+--------------------+--------------------+-------------+--------------------+-------+-------------+-----------+------------+----------+------+---------+--------------+\n",
      "|    id| season|      city|      date|match_type|player_of_match|               venue|               team1|               team2|         toss_winner|toss_decision|              winner| result|result_margin|target_runs|target_overs|super_over|method|  umpire1|       umpire2|\n",
      "+------+-------+----------+----------+----------+---------------+--------------------+--------------------+--------------------+--------------------+-------------+--------------------+-------+-------------+-----------+------------+----------+------+---------+--------------+\n",
      "|335982|2007/08| Bangalore|2008-04-18|    League|    BB McCullum|M Chinnaswamy Sta...|Royal Challengers...|Kolkata Knight Ri...|Royal Challengers...|        field|Kolkata Knight Ri...|   runs|          140|        223|          20|         N|    NA|Asad Rauf|   RE Koertzen|\n",
      "|335983|2007/08|Chandigarh|2008-04-19|    League|     MEK Hussey|Punjab Cricket As...|     Kings XI Punjab| Chennai Super Kings| Chennai Super Kings|          bat| Chennai Super Kings|   runs|           33|        241|          20|         N|    NA|MR Benson|    SL Shastri|\n",
      "|335984|2007/08|     Delhi|2008-04-19|    League|    MF Maharoof|    Feroz Shah Kotla|    Delhi Daredevils|    Rajasthan Royals|    Rajasthan Royals|          bat|    Delhi Daredevils|wickets|            9|        130|          20|         N|    NA|Aleem Dar|GA Pratapkumar|\n",
      "|335985|2007/08|    Mumbai|2008-04-20|    League|     MV Boucher|    Wankhede Stadium|      Mumbai Indians|Royal Challengers...|      Mumbai Indians|          bat|Royal Challengers...|wickets|            5|        166|          20|         N|    NA| SJ Davis|     DJ Harper|\n",
      "|335986|2007/08|   Kolkata|2008-04-20|    League|      DJ Hussey|        Eden Gardens|Kolkata Knight Ri...|     Deccan Chargers|     Deccan Chargers|          bat|Kolkata Knight Ri...|wickets|            5|        111|          20|         N|    NA|BF Bowden|   K Hariharan|\n",
      "+------+-------+----------+----------+----------+---------------+--------------------+--------------------+--------------------+--------------------+-------------+--------------------+-------+-------------+-----------+------------+----------+------+---------+--------------+\n",
      "only showing top 5 rows\n",
      "\n"
     ]
    }
   ],
   "source": [
    "matches.show(5)"
   ]
  },
  {
   "cell_type": "code",
   "execution_count": 8,
   "metadata": {},
   "outputs": [
    {
     "name": "stdout",
     "output_type": "stream",
     "text": [
      "root\n",
      " |-- id: integer (nullable = true)\n",
      " |-- season: string (nullable = true)\n",
      " |-- city: string (nullable = true)\n",
      " |-- date: date (nullable = true)\n",
      " |-- match_type: string (nullable = true)\n",
      " |-- player_of_match: string (nullable = true)\n",
      " |-- venue: string (nullable = true)\n",
      " |-- team1: string (nullable = true)\n",
      " |-- team2: string (nullable = true)\n",
      " |-- toss_winner: string (nullable = true)\n",
      " |-- toss_decision: string (nullable = true)\n",
      " |-- winner: string (nullable = true)\n",
      " |-- result: string (nullable = true)\n",
      " |-- result_margin: string (nullable = true)\n",
      " |-- target_runs: string (nullable = true)\n",
      " |-- target_overs: string (nullable = true)\n",
      " |-- super_over: string (nullable = true)\n",
      " |-- method: string (nullable = true)\n",
      " |-- umpire1: string (nullable = true)\n",
      " |-- umpire2: string (nullable = true)\n",
      "\n"
     ]
    }
   ],
   "source": [
    "matches.printSchema()"
   ]
  },
  {
   "cell_type": "markdown",
   "metadata": {},
   "source": [
    "On performing infer_schema, we see that result_margin, target_runs and target overs should be of type int but are infered as string\n",
    "Hence, we define custom schema to ensure the data types are consistent"
   ]
  },
  {
   "cell_type": "code",
   "execution_count": 9,
   "metadata": {},
   "outputs": [],
   "source": [
    "match_schema = StructType([\n",
    "    StructField(\"id\", IntegerType(), True),\n",
    "    StructField(\"season\", StringType(), True),\n",
    "    StructField(\"city\", StringType(), True),\n",
    "    StructField(\"date\", DateType(), True),\n",
    "    StructField(\"match_type\", StringType(), True),\n",
    "    StructField(\"player_of_match\", StringType(), True),\n",
    "    StructField(\"venue\", StringType(), True),\n",
    "    StructField(\"team1\", StringType(), True),\n",
    "    StructField(\"team2\", StringType(), True),\n",
    "    StructField(\"toss_winner\", StringType(), True),\n",
    "    StructField(\"toss_decision\", StringType(), True),\n",
    "    StructField(\"winner\", StringType(), True),\n",
    "    StructField(\"result\", StringType(), True),\n",
    "    StructField(\"result_margin\", IntegerType(), True),\n",
    "    StructField(\"target_runs\", IntegerType(), True),\n",
    "    StructField(\"target_overs\", IntegerType(), True),\n",
    "    StructField(\"super_over\", StringType(), True),\n",
    "    StructField(\"method\", StringType(), True),\n",
    "    StructField(\"umpire1\", StringType(), True),\n",
    "    StructField(\"umpire2\", StringType(), True)\n",
    "])\n",
    "# matches.withColumn('result_margin', matches['result_margin'].cast(IntegerType()))"
   ]
  },
  {
   "cell_type": "code",
   "execution_count": 10,
   "metadata": {},
   "outputs": [],
   "source": [
    "matches = spark.read.csv('matches.csv', schema= match_schema, header=True)"
   ]
  },
  {
   "cell_type": "code",
   "execution_count": 11,
   "metadata": {},
   "outputs": [
    {
     "name": "stdout",
     "output_type": "stream",
     "text": [
      "+------+-------+----------+----------+----------+---------------+--------------------+--------------------+--------------------+--------------------+-------------+--------------------+-------+-------------+-----------+------------+----------+------+---------+--------------+\n",
      "|    id| season|      city|      date|match_type|player_of_match|               venue|               team1|               team2|         toss_winner|toss_decision|              winner| result|result_margin|target_runs|target_overs|super_over|method|  umpire1|       umpire2|\n",
      "+------+-------+----------+----------+----------+---------------+--------------------+--------------------+--------------------+--------------------+-------------+--------------------+-------+-------------+-----------+------------+----------+------+---------+--------------+\n",
      "|335982|2007/08| Bangalore|2008-04-18|    League|    BB McCullum|M Chinnaswamy Sta...|Royal Challengers...|Kolkata Knight Ri...|Royal Challengers...|        field|Kolkata Knight Ri...|   runs|          140|        223|          20|         N|    NA|Asad Rauf|   RE Koertzen|\n",
      "|335983|2007/08|Chandigarh|2008-04-19|    League|     MEK Hussey|Punjab Cricket As...|     Kings XI Punjab| Chennai Super Kings| Chennai Super Kings|          bat| Chennai Super Kings|   runs|           33|        241|          20|         N|    NA|MR Benson|    SL Shastri|\n",
      "|335984|2007/08|     Delhi|2008-04-19|    League|    MF Maharoof|    Feroz Shah Kotla|    Delhi Daredevils|    Rajasthan Royals|    Rajasthan Royals|          bat|    Delhi Daredevils|wickets|            9|        130|          20|         N|    NA|Aleem Dar|GA Pratapkumar|\n",
      "|335985|2007/08|    Mumbai|2008-04-20|    League|     MV Boucher|    Wankhede Stadium|      Mumbai Indians|Royal Challengers...|      Mumbai Indians|          bat|Royal Challengers...|wickets|            5|        166|          20|         N|    NA| SJ Davis|     DJ Harper|\n",
      "|335986|2007/08|   Kolkata|2008-04-20|    League|      DJ Hussey|        Eden Gardens|Kolkata Knight Ri...|     Deccan Chargers|     Deccan Chargers|          bat|Kolkata Knight Ri...|wickets|            5|        111|          20|         N|    NA|BF Bowden|   K Hariharan|\n",
      "+------+-------+----------+----------+----------+---------------+--------------------+--------------------+--------------------+--------------------+-------------+--------------------+-------+-------------+-----------+------------+----------+------+---------+--------------+\n",
      "only showing top 5 rows\n",
      "\n"
     ]
    }
   ],
   "source": [
    "matches.show(5)"
   ]
  },
  {
   "cell_type": "markdown",
   "metadata": {},
   "source": [
    "# Read Deliveries Dataset"
   ]
  },
  {
   "cell_type": "code",
   "execution_count": 12,
   "metadata": {},
   "outputs": [],
   "source": [
    "deliveries = spark.read.csv('deliveries.csv', inferSchema=True, header=True)"
   ]
  },
  {
   "cell_type": "code",
   "execution_count": 13,
   "metadata": {},
   "outputs": [
    {
     "name": "stdout",
     "output_type": "stream",
     "text": [
      "+--------+------+--------------------+--------------------+----+----+-----------+-------+-----------+------------+----------+----------+-----------+---------+----------------+--------------+-------+\n",
      "|match_id|inning|        batting_team|        bowling_team|over|ball|     batter| bowler|non_striker|batsman_runs|extra_runs|total_runs|extras_type|is_wicket|player_dismissed|dismissal_kind|fielder|\n",
      "+--------+------+--------------------+--------------------+----+----+-----------+-------+-----------+------------+----------+----------+-----------+---------+----------------+--------------+-------+\n",
      "|  335982|     1|Kolkata Knight Ri...|Royal Challengers...|   0|   1| SC Ganguly|P Kumar|BB McCullum|           0|         1|         1|    legbyes|        0|              NA|            NA|     NA|\n",
      "|  335982|     1|Kolkata Knight Ri...|Royal Challengers...|   0|   2|BB McCullum|P Kumar| SC Ganguly|           0|         0|         0|       null|        0|              NA|            NA|     NA|\n",
      "|  335982|     1|Kolkata Knight Ri...|Royal Challengers...|   0|   3|BB McCullum|P Kumar| SC Ganguly|           0|         1|         1|      wides|        0|              NA|            NA|     NA|\n",
      "|  335982|     1|Kolkata Knight Ri...|Royal Challengers...|   0|   4|BB McCullum|P Kumar| SC Ganguly|           0|         0|         0|       null|        0|              NA|            NA|     NA|\n",
      "|  335982|     1|Kolkata Knight Ri...|Royal Challengers...|   0|   5|BB McCullum|P Kumar| SC Ganguly|           0|         0|         0|       null|        0|              NA|            NA|     NA|\n",
      "+--------+------+--------------------+--------------------+----+----+-----------+-------+-----------+------------+----------+----------+-----------+---------+----------------+--------------+-------+\n",
      "only showing top 5 rows\n",
      "\n"
     ]
    }
   ],
   "source": [
    "deliveries.show(5)"
   ]
  },
  {
   "cell_type": "code",
   "execution_count": 14,
   "metadata": {},
   "outputs": [
    {
     "name": "stdout",
     "output_type": "stream",
     "text": [
      "root\n",
      " |-- match_id: integer (nullable = true)\n",
      " |-- inning: integer (nullable = true)\n",
      " |-- batting_team: string (nullable = true)\n",
      " |-- bowling_team: string (nullable = true)\n",
      " |-- over: integer (nullable = true)\n",
      " |-- ball: integer (nullable = true)\n",
      " |-- batter: string (nullable = true)\n",
      " |-- bowler: string (nullable = true)\n",
      " |-- non_striker: string (nullable = true)\n",
      " |-- batsman_runs: integer (nullable = true)\n",
      " |-- extra_runs: integer (nullable = true)\n",
      " |-- total_runs: integer (nullable = true)\n",
      " |-- extras_type: string (nullable = true)\n",
      " |-- is_wicket: integer (nullable = true)\n",
      " |-- player_dismissed: string (nullable = true)\n",
      " |-- dismissal_kind: string (nullable = true)\n",
      " |-- fielder: string (nullable = true)\n",
      "\n"
     ]
    }
   ],
   "source": [
    "deliveries.printSchema()"
   ]
  },
  {
   "cell_type": "markdown",
   "metadata": {},
   "source": [
    "The infered schema is accurate"
   ]
  },
  {
   "cell_type": "markdown",
   "metadata": {},
   "source": [
    "# Featrure Engineering"
   ]
  },
  {
   "cell_type": "markdown",
   "metadata": {},
   "source": [
    "Change the values of super_over from N/Y to boolean 0/1"
   ]
  },
  {
   "cell_type": "code",
   "execution_count": 15,
   "metadata": {},
   "outputs": [],
   "source": [
    "matches = matches.withColumn('super_over', when(col('super_over')=='N', 0).otherwise(1))"
   ]
  },
  {
   "cell_type": "code",
   "execution_count": 16,
   "metadata": {},
   "outputs": [
    {
     "name": "stdout",
     "output_type": "stream",
     "text": [
      "+------+-------+----------+----------+----------+---------------+--------------------+--------------------+--------------------+--------------------+-------------+--------------------+-------+-------------+-----------+------------+----------+------+---------+--------------+\n",
      "|    id| season|      city|      date|match_type|player_of_match|               venue|               team1|               team2|         toss_winner|toss_decision|              winner| result|result_margin|target_runs|target_overs|super_over|method|  umpire1|       umpire2|\n",
      "+------+-------+----------+----------+----------+---------------+--------------------+--------------------+--------------------+--------------------+-------------+--------------------+-------+-------------+-----------+------------+----------+------+---------+--------------+\n",
      "|335982|2007/08| Bangalore|2008-04-18|    League|    BB McCullum|M Chinnaswamy Sta...|Royal Challengers...|Kolkata Knight Ri...|Royal Challengers...|        field|Kolkata Knight Ri...|   runs|          140|        223|          20|         0|    NA|Asad Rauf|   RE Koertzen|\n",
      "|335983|2007/08|Chandigarh|2008-04-19|    League|     MEK Hussey|Punjab Cricket As...|     Kings XI Punjab| Chennai Super Kings| Chennai Super Kings|          bat| Chennai Super Kings|   runs|           33|        241|          20|         0|    NA|MR Benson|    SL Shastri|\n",
      "|335984|2007/08|     Delhi|2008-04-19|    League|    MF Maharoof|    Feroz Shah Kotla|    Delhi Daredevils|    Rajasthan Royals|    Rajasthan Royals|          bat|    Delhi Daredevils|wickets|            9|        130|          20|         0|    NA|Aleem Dar|GA Pratapkumar|\n",
      "|335985|2007/08|    Mumbai|2008-04-20|    League|     MV Boucher|    Wankhede Stadium|      Mumbai Indians|Royal Challengers...|      Mumbai Indians|          bat|Royal Challengers...|wickets|            5|        166|          20|         0|    NA| SJ Davis|     DJ Harper|\n",
      "|335986|2007/08|   Kolkata|2008-04-20|    League|      DJ Hussey|        Eden Gardens|Kolkata Knight Ri...|     Deccan Chargers|     Deccan Chargers|          bat|Kolkata Knight Ri...|wickets|            5|        111|          20|         0|    NA|BF Bowden|   K Hariharan|\n",
      "+------+-------+----------+----------+----------+---------------+--------------------+--------------------+--------------------+--------------------+-------------+--------------------+-------+-------------+-----------+------------+----------+------+---------+--------------+\n",
      "only showing top 5 rows\n",
      "\n"
     ]
    }
   ],
   "source": [
    "matches.show(5)"
   ]
  },
  {
   "cell_type": "markdown",
   "metadata": {},
   "source": [
    "The column \"method\" is used to indicate if the DLS (Duckworth-Lewis-Stern) method was used to calculate a new target score which is done in case the match is interupted does to rain.\n",
    "For better clarity, we will rename the column to \"DLS_used\" and change the value to 0/1, 1 indicating that DLS was used."
   ]
  },
  {
   "cell_type": "code",
   "execution_count": 17,
   "metadata": {},
   "outputs": [
    {
     "name": "stdout",
     "output_type": "stream",
     "text": [
      "+------+\n",
      "|method|\n",
      "+------+\n",
      "|    NA|\n",
      "|   D/L|\n",
      "+------+\n",
      "\n"
     ]
    }
   ],
   "source": [
    "matches.select('method').distinct().show()"
   ]
  },
  {
   "cell_type": "code",
   "execution_count": 18,
   "metadata": {},
   "outputs": [],
   "source": [
    "# Rename column method to DLS_used                   \n",
    "matches = matches.withColumnRenamed('method','dls_used')\n",
    "\n",
    "# Convert values to boolean\n",
    "matches = matches.withColumn('dls_used', when(col('dls_used')=='NA', 0).otherwise(1))"
   ]
  },
  {
   "cell_type": "code",
   "execution_count": 19,
   "metadata": {},
   "outputs": [
    {
     "name": "stdout",
     "output_type": "stream",
     "text": [
      "+------+-------+----------+----------+----------+---------------+--------------------+--------------------+--------------------+--------------------+-------------+--------------------+-------+-------------+-----------+------------+----------+--------+---------+--------------+\n",
      "|    id| season|      city|      date|match_type|player_of_match|               venue|               team1|               team2|         toss_winner|toss_decision|              winner| result|result_margin|target_runs|target_overs|super_over|dls_used|  umpire1|       umpire2|\n",
      "+------+-------+----------+----------+----------+---------------+--------------------+--------------------+--------------------+--------------------+-------------+--------------------+-------+-------------+-----------+------------+----------+--------+---------+--------------+\n",
      "|335982|2007/08| Bangalore|2008-04-18|    League|    BB McCullum|M Chinnaswamy Sta...|Royal Challengers...|Kolkata Knight Ri...|Royal Challengers...|        field|Kolkata Knight Ri...|   runs|          140|        223|          20|         0|       0|Asad Rauf|   RE Koertzen|\n",
      "|335983|2007/08|Chandigarh|2008-04-19|    League|     MEK Hussey|Punjab Cricket As...|     Kings XI Punjab| Chennai Super Kings| Chennai Super Kings|          bat| Chennai Super Kings|   runs|           33|        241|          20|         0|       0|MR Benson|    SL Shastri|\n",
      "|335984|2007/08|     Delhi|2008-04-19|    League|    MF Maharoof|    Feroz Shah Kotla|    Delhi Daredevils|    Rajasthan Royals|    Rajasthan Royals|          bat|    Delhi Daredevils|wickets|            9|        130|          20|         0|       0|Aleem Dar|GA Pratapkumar|\n",
      "+------+-------+----------+----------+----------+---------------+--------------------+--------------------+--------------------+--------------------+-------------+--------------------+-------+-------------+-----------+------------+----------+--------+---------+--------------+\n",
      "only showing top 3 rows\n",
      "\n"
     ]
    }
   ],
   "source": [
    "matches.show(3)"
   ]
  },
  {
   "cell_type": "code",
   "execution_count": null,
   "metadata": {},
   "outputs": [],
   "source": []
  },
  {
   "cell_type": "markdown",
   "metadata": {},
   "source": [
    "# EDA"
   ]
  },
  {
   "cell_type": "markdown",
   "metadata": {},
   "source": []
  }
 ],
 "metadata": {
  "kernelspec": {
   "display_name": "base",
   "language": "python",
   "name": "python3"
  },
  "language_info": {
   "codemirror_mode": {
    "name": "ipython",
    "version": 3
   },
   "file_extension": ".py",
   "mimetype": "text/x-python",
   "name": "python",
   "nbconvert_exporter": "python",
   "pygments_lexer": "ipython3",
   "version": "3.9.13"
  }
 },
 "nbformat": 4,
 "nbformat_minor": 2
}
