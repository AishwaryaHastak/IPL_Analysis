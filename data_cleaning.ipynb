{
 "cells": [
  {
   "cell_type": "markdown",
   "metadata": {},
   "source": [
    "# Imports"
   ]
  },
  {
   "cell_type": "code",
   "execution_count": 2,
   "metadata": {},
   "outputs": [],
   "source": [
    "import numpy as np\n",
    "import pandas as pd\n",
    "import matplotlib.pyplot as plt\n",
    "import pyspark"
   ]
  },
  {
   "cell_type": "code",
   "execution_count": 3,
   "metadata": {},
   "outputs": [],
   "source": [
    "from pyspark.sql.types import IntegerType, FloatType, DateType, StringType, BooleanType\n",
    "from pyspark.sql.types import StructField, StructType\n",
    "from pyspark.sql.window import Window\n",
    "from pyspark.sql.functions import when, col, desc, asc, count,avg, sum, round,collect_list, lit, concat\n",
    "import pyspark.sql.functions as F"
   ]
  },
  {
   "cell_type": "code",
   "execution_count": 4,
   "metadata": {},
   "outputs": [],
   "source": [
    "from constants import MATCHES_FILE_PATH, DELIVERIES_FILE_PATH"
   ]
  },
  {
   "cell_type": "code",
   "execution_count": 5,
   "metadata": {},
   "outputs": [],
   "source": [
    "from pyspark.sql import SparkSession"
   ]
  },
  {
   "cell_type": "code",
   "execution_count": 6,
   "metadata": {},
   "outputs": [],
   "source": [
    "spark = SparkSession.builder.appName('IPL-Analysis').getOrCreate()"
   ]
  },
  {
   "cell_type": "markdown",
   "metadata": {},
   "source": [
    "# Read data"
   ]
  },
  {
   "cell_type": "markdown",
   "metadata": {},
   "source": [
    "## Matches dataset "
   ]
  },
  {
   "cell_type": "code",
   "execution_count": 7,
   "metadata": {},
   "outputs": [],
   "source": [
    "match_schema = StructType([\n",
    "    StructField(\"id\", IntegerType(), True),\n",
    "    StructField(\"season\", StringType(), True),\n",
    "    StructField(\"city\", StringType(), True),\n",
    "    StructField(\"date\", DateType(), True),\n",
    "    StructField(\"match_type\", StringType(), True),\n",
    "    StructField(\"player_of_match\", StringType(), True),\n",
    "    StructField(\"venue\", StringType(), True),\n",
    "    StructField(\"team1\", StringType(), True),\n",
    "    StructField(\"team2\", StringType(), True),\n",
    "    StructField(\"toss_winner\", StringType(), True),\n",
    "    StructField(\"toss_decision\", StringType(), True),\n",
    "    StructField(\"winner\", StringType(), True),\n",
    "    StructField(\"result\", StringType(), True),\n",
    "    StructField(\"result_margin\", IntegerType(), True),\n",
    "    StructField(\"target_runs\", IntegerType(), True),\n",
    "    StructField(\"target_overs\", IntegerType(), True),\n",
    "    StructField(\"super_over\", StringType(), True),\n",
    "    StructField(\"method\", StringType(), True),\n",
    "    StructField(\"umpire1\", StringType(), True),\n",
    "    StructField(\"umpire2\", StringType(), True)\n",
    "])"
   ]
  },
  {
   "cell_type": "code",
   "execution_count": 8,
   "metadata": {},
   "outputs": [],
   "source": [
    "matches = spark.read.csv('matches.csv', schema= match_schema, header=True).cache()"
   ]
  },
  {
   "cell_type": "code",
   "execution_count": 9,
   "metadata": {},
   "outputs": [
    {
     "name": "stdout",
     "output_type": "stream",
     "text": [
      "+------+-------+----------+----------+----------+---------------+--------------------+--------------------+--------------------+--------------------+-------------+--------------------+-------+-------------+-----------+------------+----------+------+---------+--------------+\n",
      "|    id| season|      city|      date|match_type|player_of_match|               venue|               team1|               team2|         toss_winner|toss_decision|              winner| result|result_margin|target_runs|target_overs|super_over|method|  umpire1|       umpire2|\n",
      "+------+-------+----------+----------+----------+---------------+--------------------+--------------------+--------------------+--------------------+-------------+--------------------+-------+-------------+-----------+------------+----------+------+---------+--------------+\n",
      "|335982|2007/08| Bangalore|2008-04-18|    League|    BB McCullum|M Chinnaswamy Sta...|Royal Challengers...|Kolkata Knight Ri...|Royal Challengers...|        field|Kolkata Knight Ri...|   runs|          140|        223|          20|         N|    NA|Asad Rauf|   RE Koertzen|\n",
      "|335983|2007/08|Chandigarh|2008-04-19|    League|     MEK Hussey|Punjab Cricket As...|     Kings XI Punjab| Chennai Super Kings| Chennai Super Kings|          bat| Chennai Super Kings|   runs|           33|        241|          20|         N|    NA|MR Benson|    SL Shastri|\n",
      "|335984|2007/08|     Delhi|2008-04-19|    League|    MF Maharoof|    Feroz Shah Kotla|    Delhi Daredevils|    Rajasthan Royals|    Rajasthan Royals|          bat|    Delhi Daredevils|wickets|            9|        130|          20|         N|    NA|Aleem Dar|GA Pratapkumar|\n",
      "|335985|2007/08|    Mumbai|2008-04-20|    League|     MV Boucher|    Wankhede Stadium|      Mumbai Indians|Royal Challengers...|      Mumbai Indians|          bat|Royal Challengers...|wickets|            5|        166|          20|         N|    NA| SJ Davis|     DJ Harper|\n",
      "|335986|2007/08|   Kolkata|2008-04-20|    League|      DJ Hussey|        Eden Gardens|Kolkata Knight Ri...|     Deccan Chargers|     Deccan Chargers|          bat|Kolkata Knight Ri...|wickets|            5|        111|          20|         N|    NA|BF Bowden|   K Hariharan|\n",
      "+------+-------+----------+----------+----------+---------------+--------------------+--------------------+--------------------+--------------------+-------------+--------------------+-------+-------------+-----------+------------+----------+------+---------+--------------+\n",
      "only showing top 5 rows\n",
      "\n"
     ]
    }
   ],
   "source": [
    "matches.show(5)"
   ]
  },
  {
   "cell_type": "markdown",
   "metadata": {},
   "source": [
    "## Deliveries Dataset"
   ]
  },
  {
   "cell_type": "code",
   "execution_count": 10,
   "metadata": {},
   "outputs": [],
   "source": [
    "deliveries = spark.read.csv('deliveries.csv', inferSchema=True, header=True).cache()"
   ]
  },
  {
   "cell_type": "code",
   "execution_count": 11,
   "metadata": {},
   "outputs": [
    {
     "name": "stdout",
     "output_type": "stream",
     "text": [
      "+--------+------+--------------------+--------------------+----+----+-----------+-------+-----------+------------+----------+----------+-----------+---------+----------------+--------------+-------+\n",
      "|match_id|inning|        batting_team|        bowling_team|over|ball|     batter| bowler|non_striker|batsman_runs|extra_runs|total_runs|extras_type|is_wicket|player_dismissed|dismissal_kind|fielder|\n",
      "+--------+------+--------------------+--------------------+----+----+-----------+-------+-----------+------------+----------+----------+-----------+---------+----------------+--------------+-------+\n",
      "|  335982|     1|Kolkata Knight Ri...|Royal Challengers...|   0|   1| SC Ganguly|P Kumar|BB McCullum|           0|         1|         1|    legbyes|        0|              NA|            NA|     NA|\n",
      "|  335982|     1|Kolkata Knight Ri...|Royal Challengers...|   0|   2|BB McCullum|P Kumar| SC Ganguly|           0|         0|         0|       NULL|        0|              NA|            NA|     NA|\n",
      "|  335982|     1|Kolkata Knight Ri...|Royal Challengers...|   0|   3|BB McCullum|P Kumar| SC Ganguly|           0|         1|         1|      wides|        0|              NA|            NA|     NA|\n",
      "|  335982|     1|Kolkata Knight Ri...|Royal Challengers...|   0|   4|BB McCullum|P Kumar| SC Ganguly|           0|         0|         0|       NULL|        0|              NA|            NA|     NA|\n",
      "|  335982|     1|Kolkata Knight Ri...|Royal Challengers...|   0|   5|BB McCullum|P Kumar| SC Ganguly|           0|         0|         0|       NULL|        0|              NA|            NA|     NA|\n",
      "+--------+------+--------------------+--------------------+----+----+-----------+-------+-----------+------------+----------+----------+-----------+---------+----------------+--------------+-------+\n",
      "only showing top 5 rows\n",
      "\n"
     ]
    }
   ],
   "source": [
    "deliveries.show(5)"
   ]
  },
  {
   "cell_type": "code",
   "execution_count": 12,
   "metadata": {},
   "outputs": [
    {
     "name": "stdout",
     "output_type": "stream",
     "text": [
      "root\n",
      " |-- match_id: integer (nullable = true)\n",
      " |-- inning: integer (nullable = true)\n",
      " |-- batting_team: string (nullable = true)\n",
      " |-- bowling_team: string (nullable = true)\n",
      " |-- over: integer (nullable = true)\n",
      " |-- ball: integer (nullable = true)\n",
      " |-- batter: string (nullable = true)\n",
      " |-- bowler: string (nullable = true)\n",
      " |-- non_striker: string (nullable = true)\n",
      " |-- batsman_runs: integer (nullable = true)\n",
      " |-- extra_runs: integer (nullable = true)\n",
      " |-- total_runs: integer (nullable = true)\n",
      " |-- extras_type: string (nullable = true)\n",
      " |-- is_wicket: integer (nullable = true)\n",
      " |-- player_dismissed: string (nullable = true)\n",
      " |-- dismissal_kind: string (nullable = true)\n",
      " |-- fielder: string (nullable = true)\n",
      "\n"
     ]
    }
   ],
   "source": [
    "deliveries.printSchema()"
   ]
  },
  {
   "cell_type": "markdown",
   "metadata": {},
   "source": [
    "# Data cleaning"
   ]
  },
  {
   "cell_type": "code",
   "execution_count": 15,
   "metadata": {},
   "outputs": [],
   "source": [
    "# Filter out rows where result_margin is null and match has no result\n",
    "matches = matches.filter(\n",
    "    ~((col('result_margin').isNull()) & (col('result') == 'no result'))\n",
    ")\n",
    "\n",
    "# Change the values of super_over from N/Y to boolean 0/1 for clarity\n",
    "matches = matches.withColumn('super_over', when(col('super_over')=='N', 0).otherwise(1))\n",
    "\n",
    "# Rename column method to DLS_used                   \n",
    "matches = matches.withColumnRenamed('method','dls_used')\n",
    "\n",
    "# Convert values to boolean\n",
    "matches = matches.withColumn('dls_used', when(col('dls_used')=='NA', 0).otherwise(1))\n",
    "\n",
    "# Convert old team names to the new rebranded names for data consistency\n",
    "replacements = {    \"Royal Challengers Bengaluru\": \"Royal Challengers Bangalore\",\n",
    "                    \"Delhi Daredevils\": \"Delhi Capitals\",\n",
    "                    \"Kings XI Punjab\": \"Punjab Kings\",\n",
    "                    \"Rising Pune Supergiant\": \"Rising Pune Supergiants\",\n",
    "                    \"Gujarat Lions\": \"Gujarat Titans\",\n",
    "                }\n",
    "matches = matches.replace(replacements,['team1','team2','toss_winner'])"
   ]
  },
  {
   "cell_type": "code",
   "execution_count": 16,
   "metadata": {},
   "outputs": [
    {
     "name": "stdout",
     "output_type": "stream",
     "text": [
      "+-------+------------------+------------------+-------------+------------------+---------------+--------------------+-------------------+-------------------+-------------------+-------------+-------------------+-------+------------------+------------------+------------------+----------+--------+----------+----------+\n",
      "|summary|                id|            season|         city|        match_type|player_of_match|               venue|              team1|              team2|        toss_winner|toss_decision|             winner| result|     result_margin|       target_runs|      target_overs|super_over|dls_used|   umpire1|   umpire2|\n",
      "+-------+------------------+------------------+-------------+------------------+---------------+--------------------+-------------------+-------------------+-------------------+-------------+-------------------+-------+------------------+------------------+------------------+----------+--------+----------+----------+\n",
      "|  count|              1090|              1090|         1090|              1090|           1090|                1090|               1090|               1090|               1090|         1090|               1090|   1090|              1076|              1090|              1089|      1090|    1090|      1090|      1090|\n",
      "|   mean| 904668.0972477064|2016.7883771929824|         NULL|              NULL|           NULL|                NULL|               NULL|               NULL|               NULL|         NULL|               NULL|   NULL|17.259293680297397|165.75779816513761| 19.78236914600551|       1.0|     1.0|      NULL|      NULL|\n",
      "| stddev|368015.33263731794| 4.603506132695862|         NULL|              NULL|           NULL|                NULL|               NULL|               NULL|               NULL|         NULL|               NULL|   NULL|21.787443729011304|  33.3057745404157|1.4844232538916309|       0.0|     0.0|      NULL|      NULL|\n",
      "|    min|            335982|           2007/08|    Abu Dhabi|3rd Place Play-Off|     A Chandila|Arun Jaitley Stadium|Chennai Super Kings|Chennai Super Kings|Chennai Super Kings|          bat|Chennai Super Kings|   runs|                 1|                43|                 5|         1|       1|A Deshmukh|A Deshmukh|\n",
      "|    max|           1426312|              2024|Visakhapatnam|        Semi Final|         Z Khan|Zayed Cricket Sta...|Sunrisers Hyderabad|Sunrisers Hyderabad|Sunrisers Hyderabad|        field|Sunrisers Hyderabad|wickets|               146|               288|                20|         1|       1|  YC Barde|  YC Barde|\n",
      "+-------+------------------+------------------+-------------+------------------+---------------+--------------------+-------------------+-------------------+-------------------+-------------+-------------------+-------+------------------+------------------+------------------+----------+--------+----------+----------+\n",
      "\n"
     ]
    }
   ],
   "source": [
    "matches.describe().show()"
   ]
  },
  {
   "cell_type": "code",
   "execution_count": 17,
   "metadata": {},
   "outputs": [],
   "source": [
    "# Save the cleaned data to DBFS\n",
    "matches.write.mode(\"overwrite\").option(\"header\", \"true\").csv(\"matches_cleaned.csv\")"
   ]
  }
 ],
 "metadata": {
  "kernelspec": {
   "display_name": "base",
   "language": "python",
   "name": "python3"
  },
  "language_info": {
   "codemirror_mode": {
    "name": "ipython",
    "version": 3
   },
   "file_extension": ".py",
   "mimetype": "text/x-python",
   "name": "python",
   "nbconvert_exporter": "python",
   "pygments_lexer": "ipython3",
   "version": "3.9.0"
  }
 },
 "nbformat": 4,
 "nbformat_minor": 2
}
